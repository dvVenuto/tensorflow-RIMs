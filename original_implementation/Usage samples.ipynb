{
 "cells": [
  {
   "cell_type": "markdown",
   "metadata": {},
   "source": [
    "#### Import RIM Cell, and LSTM cell (from tensorflow) as a comparison"
   ]
  },
  {
   "cell_type": "code",
   "execution_count": 40,
   "metadata": {},
   "outputs": [],
   "source": [
    "from tfRIM import RIMCell\n",
    "from tensorflow.keras.layers import LSTMCell\n",
    "import tensorflow as tf\n",
    "import numpy as np"
   ]
  },
  {
   "cell_type": "code",
   "execution_count": 41,
   "metadata": {},
   "outputs": [],
   "source": [
    "timestamp = None\n",
    "batch_size = None\n",
    "input_size = 10"
   ]
  },
  {
   "cell_type": "markdown",
   "metadata": {},
   "source": [
    "#### Replace the API for creating a LSTM Cell:\n",
    "rnn_cell = LSTMCell(...)\n",
    "#### by creating a RIM Cell:\n",
    "rnn_cell = RIMCell(...)\n",
    "##### We declare 20 hidden units per RIM; 6 RIMs and pick top 5 RIM to active; 2 input heads and communication heads; key/query/value sizes are 8 for both inputs and communications."
   ]
  },
  {
   "cell_type": "code",
   "execution_count": 42,
   "metadata": {},
   "outputs": [],
   "source": [
    "# rnn_cell = LSTMCell(100)\n",
    "rnn_cell = RIMCell(units = 20, nRIM=6, k=5,\n",
    "                num_input_heads=2, input_key_size=8, input_value_size=8, input_query_size=8, input_keep_prob=0.5,\n",
    "                num_comm_heads=2, comm_key_size=8, comm_value_size=8, comm_query_size=8, comm_keep_prob=0.5)"
   ]
  },
  {
   "cell_type": "markdown",
   "metadata": {},
   "source": [
    "#### Then build the neural net as usual"
   ]
  },
  {
   "cell_type": "code",
   "execution_count": 43,
   "metadata": {},
   "outputs": [],
   "source": [
    "model = tf.keras.Sequential()\n",
    "model.add(tf.keras.Input([timestamp, input_size], batch_size=batch_size))\n",
    "model.add(tf.keras.layers.RNN(cell=rnn_cell, return_sequences = True, return_state=False))\n",
    "model.add(tf.keras.layers.Dense(1))\n",
    "\n",
    "opt = tf.keras.optimizers.Adam(learning_rate=0.001)\n",
    "cost = tf.keras.losses.BinaryCrossentropy()\n",
    "model.compile(optimizer=opt, loss=cost)"
   ]
  },
  {
   "cell_type": "markdown",
   "metadata": {},
   "source": [
    "#### and fit/predict with data"
   ]
  },
  {
   "cell_type": "code",
   "execution_count": 44,
   "metadata": {},
   "outputs": [],
   "source": [
    "data_x = np.random.rand(64, 100, 10) #batch_size = 64, timestamp=100, input_size=10\n",
    "data_y = np.random.binomial(n=1, p=0.5, size = [64, 100, 1])"
   ]
  },
  {
   "cell_type": "code",
   "execution_count": 45,
   "metadata": {},
   "outputs": [
    {
     "name": "stdout",
     "output_type": "stream",
     "text": [
      "2/2 [==============================] - 0s 32ms/step - loss: 1.1293\n"
     ]
    },
    {
     "data": {
      "text/plain": [
       "<tensorflow.python.keras.callbacks.History at 0x148667450>"
      ]
     },
     "execution_count": 45,
     "metadata": {},
     "output_type": "execute_result"
    }
   ],
   "source": [
    "model.fit(data_x, data_y)"
   ]
  },
  {
   "cell_type": "code",
   "execution_count": 46,
   "metadata": {},
   "outputs": [],
   "source": [
    "pred_y = model.predict(data_x)"
   ]
  },
  {
   "cell_type": "markdown",
   "metadata": {},
   "source": [
    "#### Performance is expected to be around 50% in this demonstration, since everything is purely random"
   ]
  },
  {
   "cell_type": "code",
   "execution_count": 47,
   "metadata": {},
   "outputs": [
    {
     "data": {
      "text/plain": [
       "0.501875"
      ]
     },
     "execution_count": 47,
     "metadata": {},
     "output_type": "execute_result"
    }
   ],
   "source": [
    "np.mean((pred_y>0.5)==data_y)"
   ]
  },
  {
   "cell_type": "code",
   "execution_count": null,
   "metadata": {},
   "outputs": [],
   "source": []
  },
  {
   "cell_type": "code",
   "execution_count": null,
   "metadata": {},
   "outputs": [],
   "source": []
  }
 ],
 "metadata": {
  "kernelspec": {
   "display_name": "Python 3",
   "language": "python",
   "name": "python3"
  },
  "language_info": {
   "codemirror_mode": {
    "name": "ipython",
    "version": 3
   },
   "file_extension": ".py",
   "mimetype": "text/x-python",
   "name": "python",
   "nbconvert_exporter": "python",
   "pygments_lexer": "ipython3",
   "version": "3.7.4"
  }
 },
 "nbformat": 4,
 "nbformat_minor": 2
}
